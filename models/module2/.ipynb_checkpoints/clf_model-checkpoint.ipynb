{
 "cells": [
  {
   "cell_type": "code",
   "execution_count": 1,
   "metadata": {},
   "outputs": [],
   "source": [
    "import numpy as np\n",
    "import os\n",
    "import tensorflow as tf\n",
    "from tensorflow.keras.preprocessing.image import ImageDataGenerator\n",
    "from tensorflow.keras.applications import VGG16\n",
    "from tensorflow.keras.layers import MaxPooling2D, Dropout, Flatten,Input,Dense\n",
    "from tensorflow.keras.models import Model\n",
    "from tensorflow.keras.optimizers import Adam\n",
    "from tensorflow.keras.utils import to_categorical\n",
    "import sklearn\n",
    "from sklearn.model_selection import train_test_split\n",
    "from sklearn.preprocessing import LabelBinarizer\n",
    "\n"
   ]
  },
  {
   "cell_type": "code",
   "execution_count": 2,
   "metadata": {},
   "outputs": [
    {
     "name": "stdout",
     "output_type": "stream",
     "text": [
      "Found 1125 images belonging to 3 classes.\n"
     ]
    }
   ],
   "source": [
    "trn_dtgn = ImageDataGenerator(\n",
    "    rescale=1./255, shear_range=0.2, zoom_range=0.2, horizontal_flip=True)\n",
    "\n",
    "trn_gnrtr = trn_dtgn.flow_from_directory('Dataset/',target_size=(224,224),batch_size=16,class_mode='categorical')\n"
   ]
  },
  {
   "cell_type": "code",
   "execution_count": 3,
   "metadata": {},
   "outputs": [],
   "source": [
    "baseModel = VGG16(weights=\"imagenet\",include_top=False,input_tensor=Input(shape=(224,224,3)))"
   ]
  },
  {
   "cell_type": "code",
   "execution_count": 11,
   "metadata": {},
   "outputs": [],
   "source": [
    "for layer in baseModel.layers:\n",
    "    layer.trainable = False\n",
    "\n",
    "head = baseModel.output\n",
    "head = MaxPooling2D(pool_size=(3,3))(head)\n",
    "head = Flatten(name=\"flatten\")(head)\n",
    "head = Dense(64,activation= 'relu')(head)\n",
    "head = Dropout(0.6)(head)\n",
    "head = Dense(16,activation='relu')(head)\n",
    "head = Dense(3,activation='softmax')(head)\n",
    "\n",
    "Tmodel = Model(inputs=baseModel.input,outputs=head)"
   ]
  },
  {
   "cell_type": "code",
   "execution_count": 13,
   "metadata": {},
   "outputs": [],
   "source": [
    "opt = Adam(lr=0.001,decay=(0.001/25))\n",
    "Tmodel.compile(loss=\"binary_crossentropy\",optimizer=opt,metrics=['accuracy'])\n"
   ]
  },
  {
   "cell_type": "code",
   "execution_count": 14,
   "metadata": {},
   "outputs": [
    {
     "name": "stdout",
     "output_type": "stream",
     "text": [
      "Model: \"functional_3\"\n",
      "_________________________________________________________________\n",
      "Layer (type)                 Output Shape              Param #   \n",
      "=================================================================\n",
      "input_1 (InputLayer)         [(None, 224, 224, 3)]     0         \n",
      "_________________________________________________________________\n",
      "block1_conv1 (Conv2D)        (None, 224, 224, 64)      1792      \n",
      "_________________________________________________________________\n",
      "block1_conv2 (Conv2D)        (None, 224, 224, 64)      36928     \n",
      "_________________________________________________________________\n",
      "block1_pool (MaxPooling2D)   (None, 112, 112, 64)      0         \n",
      "_________________________________________________________________\n",
      "block2_conv1 (Conv2D)        (None, 112, 112, 128)     73856     \n",
      "_________________________________________________________________\n",
      "block2_conv2 (Conv2D)        (None, 112, 112, 128)     147584    \n",
      "_________________________________________________________________\n",
      "block2_pool (MaxPooling2D)   (None, 56, 56, 128)       0         \n",
      "_________________________________________________________________\n",
      "block3_conv1 (Conv2D)        (None, 56, 56, 256)       295168    \n",
      "_________________________________________________________________\n",
      "block3_conv2 (Conv2D)        (None, 56, 56, 256)       590080    \n",
      "_________________________________________________________________\n",
      "block3_conv3 (Conv2D)        (None, 56, 56, 256)       590080    \n",
      "_________________________________________________________________\n",
      "block3_pool (MaxPooling2D)   (None, 28, 28, 256)       0         \n",
      "_________________________________________________________________\n",
      "block4_conv1 (Conv2D)        (None, 28, 28, 512)       1180160   \n",
      "_________________________________________________________________\n",
      "block4_conv2 (Conv2D)        (None, 28, 28, 512)       2359808   \n",
      "_________________________________________________________________\n",
      "block4_conv3 (Conv2D)        (None, 28, 28, 512)       2359808   \n",
      "_________________________________________________________________\n",
      "block4_pool (MaxPooling2D)   (None, 14, 14, 512)       0         \n",
      "_________________________________________________________________\n",
      "block5_conv1 (Conv2D)        (None, 14, 14, 512)       2359808   \n",
      "_________________________________________________________________\n",
      "block5_conv2 (Conv2D)        (None, 14, 14, 512)       2359808   \n",
      "_________________________________________________________________\n",
      "block5_conv3 (Conv2D)        (None, 14, 14, 512)       2359808   \n",
      "_________________________________________________________________\n",
      "block5_pool (MaxPooling2D)   (None, 7, 7, 512)         0         \n",
      "_________________________________________________________________\n",
      "max_pooling2d_1 (MaxPooling2 (None, 2, 2, 512)         0         \n",
      "_________________________________________________________________\n",
      "flatten (Flatten)            (None, 2048)              0         \n",
      "_________________________________________________________________\n",
      "dense_3 (Dense)              (None, 64)                131136    \n",
      "_________________________________________________________________\n",
      "dropout_1 (Dropout)          (None, 64)                0         \n",
      "_________________________________________________________________\n",
      "dense_4 (Dense)              (None, 16)                1040      \n",
      "_________________________________________________________________\n",
      "dense_5 (Dense)              (None, 3)                 51        \n",
      "=================================================================\n",
      "Total params: 14,846,915\n",
      "Trainable params: 132,227\n",
      "Non-trainable params: 14,714,688\n",
      "_________________________________________________________________\n"
     ]
    }
   ],
   "source": [
    "Tmodel.summary()"
   ]
  },
  {
   "cell_type": "code",
   "execution_count": 15,
   "metadata": {},
   "outputs": [
    {
     "name": "stdout",
     "output_type": "stream",
     "text": [
      "Epoch 1/20\n",
      "5/5 [==============================] - 41s 8s/step - loss: 0.8036 - accuracy: 0.4500\n",
      "Epoch 2/20\n",
      "5/5 [==============================] - 40s 8s/step - loss: 0.8866 - accuracy: 0.3500\n",
      "Epoch 3/20\n",
      "5/5 [==============================] - 39s 8s/step - loss: 0.6545 - accuracy: 0.4500\n",
      "Epoch 4/20\n",
      "5/5 [==============================] - 38s 8s/step - loss: 0.6068 - accuracy: 0.4875\n",
      "Epoch 5/20\n",
      "5/5 [==============================] - 40s 8s/step - loss: 0.6226 - accuracy: 0.4375\n",
      "Epoch 6/20\n",
      "5/5 [==============================] - 39s 8s/step - loss: 0.6152 - accuracy: 0.5125\n",
      "Epoch 7/20\n",
      "5/5 [==============================] - 39s 8s/step - loss: 0.6046 - accuracy: 0.4875\n",
      "Epoch 8/20\n",
      "5/5 [==============================] - 44s 9s/step - loss: 0.5931 - accuracy: 0.5125\n",
      "Epoch 9/20\n",
      "5/5 [==============================] - 40s 8s/step - loss: 0.5259 - accuracy: 0.6250\n",
      "Epoch 10/20\n",
      "5/5 [==============================] - 40s 8s/step - loss: 0.6219 - accuracy: 0.4625\n",
      "Epoch 11/20\n",
      "5/5 [==============================] - 39s 8s/step - loss: 0.5779 - accuracy: 0.5125\n",
      "Epoch 12/20\n",
      "5/5 [==============================] - 41s 8s/step - loss: 0.6130 - accuracy: 0.5125\n",
      "Epoch 13/20\n",
      "5/5 [==============================] - 41s 8s/step - loss: 0.5239 - accuracy: 0.5875\n",
      "Epoch 14/20\n",
      "5/5 [==============================] - 39s 8s/step - loss: 0.6198 - accuracy: 0.4250\n",
      "Epoch 15/20\n",
      "5/5 [==============================] - 40s 8s/step - loss: 0.5811 - accuracy: 0.5375\n",
      "Epoch 16/20\n",
      "5/5 [==============================] - 39s 8s/step - loss: 0.5204 - accuracy: 0.5625\n",
      "Epoch 17/20\n",
      "5/5 [==============================] - 39s 8s/step - loss: 0.5856 - accuracy: 0.4375\n",
      "Epoch 18/20\n",
      "5/5 [==============================] - 32s 6s/step - loss: 0.5524 - accuracy: 0.5072\n",
      "Epoch 19/20\n",
      "5/5 [==============================] - 40s 8s/step - loss: 0.6321 - accuracy: 0.4375\n",
      "Epoch 20/20\n",
      "5/5 [==============================] - 39s 8s/step - loss: 0.5908 - accuracy: 0.5125\n"
     ]
    },
    {
     "data": {
      "text/plain": [
       "<tensorflow.python.keras.callbacks.History at 0x7f55f41dcb50>"
      ]
     },
     "execution_count": 15,
     "metadata": {},
     "output_type": "execute_result"
    }
   ],
   "source": [
    "Tmodel.fit(trn_gnrtr,steps_per_epoch=5,epochs=20)"
   ]
  },
  {
   "cell_type": "code",
   "execution_count": 17,
   "metadata": {},
   "outputs": [],
   "source": [
    "Tmodel.save(\"xraymodel.h5\")"
   ]
  },
  {
   "cell_type": "code",
   "execution_count": null,
   "metadata": {},
   "outputs": [],
   "source": []
  }
 ],
 "metadata": {
  "kernelspec": {
   "display_name": "Python 3",
   "language": "python",
   "name": "python3"
  },
  "language_info": {
   "codemirror_mode": {
    "name": "ipython",
    "version": 3
   },
   "file_extension": ".py",
   "mimetype": "text/x-python",
   "name": "python",
   "nbconvert_exporter": "python",
   "pygments_lexer": "ipython3",
   "version": "3.8.3"
  }
 },
 "nbformat": 4,
 "nbformat_minor": 4
}
