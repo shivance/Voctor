{
 "cells": [
  {
   "cell_type": "code",
   "execution_count": 1,
   "metadata": {},
   "outputs": [],
   "source": [
    "# bot code -- Transformer\n"
   ]
  },
  {
   "cell_type": "code",
   "execution_count": null,
   "metadata": {},
   "outputs": [],
   "source": [
    "import tensorflow as tf\n",
    "import speech_recognition as sr\n",
    "import os\n",
    "from gtts import gTTS\n",
    "import datetime\n",
    "import warnings\n",
    "import calendar\n",
    "import random\n",
    "import wikipedia\n",
    "warnings.filterwarnings('ignore')\n",
    "\n",
    "def recordAudio():    \n",
    "    # Record the audio\n",
    "    r = sr.Recognizer()\n",
    "    with sr.Microphone() as source:  \n",
    "       print('Say something!')\n",
    "       audio = r.listen(source)\n",
    "    \n",
    "    \n",
    "    data = ''\n",
    "    try:\n",
    "        data = r.recognize_google(audio)\n",
    "        print('You said: ' + data)\n",
    "    except sr.UnknownValueError:\n",
    "        print('Google Speech Recognition could not understand')\n",
    "    except sr.RequestError as e:\n",
    "        print('Request error from Google Speech Recognition')     \n",
    "    \n",
    "    return data\n",
    "\n",
    "def assistantResponse(text):\n",
    "    print(text)    # Convert the text to speech\n",
    "    myobj = gTTS(text=text, lang='en', slow=False)\n",
    "    \n",
    "    # Save the converted audio to a file    \n",
    "    myobj.save('assistant_response.mp3')    # Play the converted file\n",
    "    os.system('start assistant_response.mp3')"
   ]
  }
 ],
 "metadata": {
  "kernelspec": {
   "display_name": "Python 3",
   "language": "python",
   "name": "python3"
  },
  "language_info": {
   "codemirror_mode": {
    "name": "ipython",
    "version": 3
   },
   "file_extension": ".py",
   "mimetype": "text/x-python",
   "name": "python",
   "nbconvert_exporter": "python",
   "pygments_lexer": "ipython3",
   "version": "3.7.6"
  }
 },
 "nbformat": 4,
 "nbformat_minor": 4
}
